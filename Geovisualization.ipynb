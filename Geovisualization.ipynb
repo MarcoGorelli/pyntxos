{
 "cells": [
  {
   "cell_type": "code",
   "execution_count": null,
   "metadata": {},
   "outputs": [],
   "source": [
    "%load_ext nb_black\n",
    "\n",
    "import folium"
   ]
  },
  {
   "cell_type": "code",
   "execution_count": null,
   "metadata": {},
   "outputs": [],
   "source": [
    "data = [\n",
    "    {\n",
    "        \"name\": \"Argotia\",\n",
    "        \"latitude\": 43.2590929,\n",
    "        \"longitude\": -2.9244257,\n",
    "        \"address\": \"Plaza Nueva, 48005 Bilbao, Vizcaya, Spain\",\n",
    "    },\n",
    "    {\n",
    "        \"name\": \"Sorginzulo\",\n",
    "        \"latitude\": 43.259387,\n",
    "        \"longitude\": -2.9233905,\n",
    "        \"address\": \"Plaza Nueva, 12, 48005 Bilbao, BI, Spain\",\n",
    "    },\n",
    "]"
   ]
  },
  {
   "cell_type": "code",
   "execution_count": null,
   "metadata": {},
   "outputs": [],
   "source": [
    "m = folium.Map(location=[43.2590929, -2.9244257], zoom_start=20)\n",
    "\n",
    "tooltip = \"Click me!\"\n",
    "\n",
    "for i in data:\n",
    "    folium.Marker(\n",
    "        [i[\"latitude\"], i[\"longitude\"]],\n",
    "        popup=f\"<i>{i['name']}</i>\\n{i['address']}\",\n",
    "        tooltip=tooltip,\n",
    "    ).add_to(m)\n",
    "\n",
    "for n in range(len(data) - 1):\n",
    "    folium.ColorLine(\n",
    "        [\n",
    "            (data[n][\"latitude\"], data[n][\"longitude\"]),\n",
    "            (data[n + 1][\"latitude\"], data[n + 1][\"longitude\"]),\n",
    "        ],\n",
    "        [1],\n",
    "        weight=3,\n",
    "        colormap=[\"green\", \"red\"],\n",
    "    ).add_to(m)\n",
    "\n",
    "m"
   ]
  },
  {
   "cell_type": "code",
   "execution_count": null,
   "metadata": {},
   "outputs": [],
   "source": []
  }
 ],
 "metadata": {
  "kernelspec": {
   "display_name": "Python 3",
   "language": "python",
   "name": "python3"
  },
  "language_info": {
   "codemirror_mode": {
    "name": "ipython",
    "version": 3
   },
   "file_extension": ".py",
   "mimetype": "text/x-python",
   "name": "python",
   "nbconvert_exporter": "python",
   "pygments_lexer": "ipython3",
   "version": "3.7.3"
  }
 },
 "nbformat": 4,
 "nbformat_minor": 2
}
